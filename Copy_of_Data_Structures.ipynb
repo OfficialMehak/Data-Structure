{
  "nbformat": 4,
  "nbformat_minor": 0,
  "metadata": {
    "colab": {
      "provenance": [],
      "authorship_tag": "ABX9TyMATEsaAbtWzBeVc6qKRF6c",
      "include_colab_link": true
    },
    "kernelspec": {
      "name": "python3",
      "display_name": "Python 3"
    },
    "language_info": {
      "name": "python"
    }
  },
  "cells": [
    {
      "cell_type": "markdown",
      "metadata": {
        "id": "view-in-github",
        "colab_type": "text"
      },
      "source": [
        "<a href=\"https://colab.research.google.com/github/OfficialMehak/Data-Structure/blob/main/Copy_of_Data_Structures.ipynb\" target=\"_parent\"><img src=\"https://colab.research.google.com/assets/colab-badge.svg\" alt=\"Open In Colab\"/></a>"
      ]
    },
    {
      "cell_type": "markdown",
      "source": [
        "1. Write a program to print numbers from 1 to 10, but stop if the number is 5"
      ],
      "metadata": {
        "id": "iEXf2N2nRNjA"
      }
    },
    {
      "cell_type": "code",
      "execution_count": null,
      "metadata": {
        "colab": {
          "base_uri": "https://localhost:8080/"
        },
        "id": "NectjzTORMBv",
        "outputId": "0fed39b8-9f28-44c1-d509-a4bf3d47708c"
      },
      "outputs": [
        {
          "output_type": "stream",
          "name": "stdout",
          "text": [
            "1\n",
            "2\n",
            "3\n",
            "4\n"
          ]
        }
      ],
      "source": [
        "# Iterate through numbers 1 to 10\n",
        "for i in range(1, 11):\n",
        "    # If the current number is 5, terminate the loop\n",
        "    if i == 5:\n",
        "        break\n",
        "    # Print the current number\n",
        "    print(i)\n",
        "\n",
        "\"\"\"Explanation: The for loop iterates through numbers 1 to 10, and when the number equals 5, the break statement stops the loop. Numbers 1 to 4 will be printed.\"\"\""
      ]
    },
    {
      "cell_type": "markdown",
      "source": [
        "2. Write a program to iterate through a list and stop when encountering a specific element"
      ],
      "metadata": {
        "id": "jL3UdTTlRbKr"
      }
    },
    {
      "cell_type": "code",
      "source": [
        "# Define a list of numbers\n",
        "numbers = [1, 2, 3, 4, 5, 6, 7, 8, 9, 10]\n",
        "\n",
        "# Iterate through the list\n",
        "for num in numbers:\n",
        "    # If the current number is 7, terminate the loop\n",
        "    if num == 7:\n",
        "        break\n",
        "    # Print the current number\n",
        "    print(num)\n",
        "\"\"\" Explanation: The loop goes through the list numbers. When it finds the value 7, the break statement ends the loop. Numbers 1 to 6 will be printed.\"\"\""
      ],
      "metadata": {
        "colab": {
          "base_uri": "https://localhost:8080/",
          "height": 140
        },
        "id": "1hUEBT7lRWbN",
        "outputId": "483b9a85-505c-4087-ecc7-1f2d0da4b8fd"
      },
      "execution_count": null,
      "outputs": [
        {
          "output_type": "stream",
          "name": "stdout",
          "text": [
            "1\n",
            "2\n",
            "3\n",
            "4\n",
            "5\n",
            "6\n"
          ]
        },
        {
          "output_type": "execute_result",
          "data": {
            "text/plain": [
              "' Explanation: The loop goes through the list numbers. When it finds the value 7, the break statement ends the loop. Numbers 1 to 6 will be printed.'"
            ],
            "application/vnd.google.colaboratory.intrinsic+json": {
              "type": "string"
            }
          },
          "metadata": {},
          "execution_count": 5
        }
      ]
    },
    {
      "cell_type": "markdown",
      "source": [
        "3. Write a program to skip printing even numbers from 1 to 10"
      ],
      "metadata": {
        "id": "j0JtTUboRzlH"
      }
    },
    {
      "cell_type": "code",
      "source": [
        "# Iterate through numbers 1 to 10\n",
        "for i in range(1, 11):\n",
        "    # If the current number is even, skip this iteration\n",
        "    if i % 2 == 0:\n",
        "        continue\n",
        "    # Print the current number\n",
        "    print(i)\n",
        "\"\"\" Explanation: The loop iterates through numbers 1 to 10. When the number is even (i % 2 == 0),\n",
        "the continue statement skips the print operation and proceeds with the next iteration. Only odd numbers (1, 3, 5, 7, 9) are printed.\"\"\""
      ],
      "metadata": {
        "colab": {
          "base_uri": "https://localhost:8080/",
          "height": 140
        },
        "id": "tG5gypaXR1_n",
        "outputId": "7a5fab81-eeec-43a1-82d1-f83f229ad731"
      },
      "execution_count": null,
      "outputs": [
        {
          "output_type": "stream",
          "name": "stdout",
          "text": [
            "1\n",
            "3\n",
            "5\n",
            "7\n",
            "9\n"
          ]
        },
        {
          "output_type": "execute_result",
          "data": {
            "text/plain": [
              "' Explanation: The loop iterates through numbers 1 to 10. When the number is even (i % 2 == 0), \\nthe continue statement skips the print operation and proceeds with the next iteration. Only odd numbers (1, 3, 5, 7, 9) are printed.'"
            ],
            "application/vnd.google.colaboratory.intrinsic+json": {
              "type": "string"
            }
          },
          "metadata": {},
          "execution_count": 6
        }
      ]
    },
    {
      "cell_type": "markdown",
      "source": [
        "4. Write a program to print numbers from 0 to 9 using range()"
      ],
      "metadata": {
        "id": "eBYozNMtR8J8"
      }
    },
    {
      "cell_type": "code",
      "source": [
        "# Use range() to generate numbers from 0 to 9\n",
        "for i in range(10):\n",
        "    # Print each number in the range\n",
        "    print(i)\n",
        "\"\"\" Explanation: The range(10) function generates numbers starting from 0 up to (but not including) 10. The loop prints each number. \"\"\""
      ],
      "metadata": {
        "colab": {
          "base_uri": "https://localhost:8080/",
          "height": 209
        },
        "id": "fRlW_IeiSAPh",
        "outputId": "aa4cee18-a58c-46dd-b54f-ee5c88ab6e8f"
      },
      "execution_count": null,
      "outputs": [
        {
          "output_type": "stream",
          "name": "stdout",
          "text": [
            "0\n",
            "1\n",
            "2\n",
            "3\n",
            "4\n",
            "5\n",
            "6\n",
            "7\n",
            "8\n",
            "9\n"
          ]
        },
        {
          "output_type": "execute_result",
          "data": {
            "text/plain": [
              "' Explanation: The range(10) function generates numbers starting from 0 up to (but not including) 10. The loop prints each number. '"
            ],
            "application/vnd.google.colaboratory.intrinsic+json": {
              "type": "string"
            }
          },
          "metadata": {},
          "execution_count": 7
        }
      ]
    },
    {
      "cell_type": "markdown",
      "source": [
        "5. Write a program to print multiplication tables from 1 to 5, but stop after the first table is printed for each number"
      ],
      "metadata": {
        "id": "6HbF7Ct3SG2f"
      }
    },
    {
      "cell_type": "code",
      "source": [
        "# Outer loop iterates through numbers 1 to 5 (the table numbers)\n",
        "for i in range(1, 6):\n",
        "    # Inner loop iterates through the multiplier for each table\n",
        "    for j in range(1, 11):\n",
        "        # Print the first multiplication result for the current table\n",
        "        print(f'{i} x {j} = {i * j}')\n",
        "        # Stop the inner loop after the first result\n",
        "        break\n",
        "\"\"\" Explanation:\n",
        "\n",
        "The outer loop iterates through numbers 1 to 5 to define the multiplication table.\n",
        "The inner loop calculates the multiplication table for each number.\n",
        "The break statement in the inner loop ensures that only the first result for each table is printed.\"\"\""
      ],
      "metadata": {
        "colab": {
          "base_uri": "https://localhost:8080/",
          "height": 140
        },
        "id": "wEtwCVrmSJX8",
        "outputId": "4e4b9088-53a8-4ed7-d762-ffc7b6ac21ad"
      },
      "execution_count": null,
      "outputs": [
        {
          "output_type": "stream",
          "name": "stdout",
          "text": [
            "1 x 1 = 1\n",
            "2 x 1 = 2\n",
            "3 x 1 = 3\n",
            "4 x 1 = 4\n",
            "5 x 1 = 5\n"
          ]
        },
        {
          "output_type": "execute_result",
          "data": {
            "text/plain": [
              "' Explanation:\\n\\nThe outer loop iterates through numbers 1 to 5 to define the multiplication table.\\nThe inner loop calculates the multiplication table for each number.\\nThe break statement in the inner loop ensures that only the first result for each table is printed.'"
            ],
            "application/vnd.google.colaboratory.intrinsic+json": {
              "type": "string"
            }
          },
          "metadata": {},
          "execution_count": 9
        }
      ]
    },
    {
      "cell_type": "markdown",
      "source": [
        "6. Write a program to skip printing even numbers using a while loop"
      ],
      "metadata": {
        "id": "B-pDFxzVSPqt"
      }
    },
    {
      "cell_type": "code",
      "source": [
        "# Start the counter at 1\n",
        "num = 1\n",
        "\n",
        "# Loop until the counter exceeds 10\n",
        "while num <= 10:\n",
        "    # If the number is even, skip the rest of the loop and increment the counter\n",
        "    if num % 2 == 0:\n",
        "        num += 1\n",
        "        continue\n",
        "    # Print the current number if it is odd\n",
        "    print(num)\n",
        "    # Increment the counter\n",
        "    num += 1\n",
        "\"\"\" Explanation:\n",
        "\n",
        "A while loop starts at 1 and continues until the counter reaches 10.\n",
        "The if statement checks if the current number is even (num % 2 == 0).\n",
        "If the number is even, the continue statement skips the print operation and increments the counter to move to the next iteration.\n",
        "Only odd numbers (1, 3, 5, 7, 9) are printed.\"\"\""
      ],
      "metadata": {
        "colab": {
          "base_uri": "https://localhost:8080/",
          "height": 140
        },
        "id": "K59b5zNrSQe4",
        "outputId": "eeedcf12-d5b4-4ddc-d68c-da85c0fef05f"
      },
      "execution_count": null,
      "outputs": [
        {
          "output_type": "stream",
          "name": "stdout",
          "text": [
            "1\n",
            "3\n",
            "5\n",
            "7\n",
            "9\n"
          ]
        },
        {
          "output_type": "execute_result",
          "data": {
            "text/plain": [
              "' Explanation:\\n\\nA while loop starts at 1 and continues until the counter reaches 10.\\nThe if statement checks if the current number is even (num % 2 == 0).\\nIf the number is even, the continue statement skips the print operation and increments the counter to move to the next iteration.\\nOnly odd numbers (1, 3, 5, 7, 9) are printed.'"
            ],
            "application/vnd.google.colaboratory.intrinsic+json": {
              "type": "string"
            }
          },
          "metadata": {},
          "execution_count": 8
        }
      ]
    }
  ]
}